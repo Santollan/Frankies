{
 "cells": [
  {
   "cell_type": "markdown",
   "metadata": {},
   "source": [
    "# Find Polar Contacts"
   ]
  },
  {
   "cell_type": "code",
   "execution_count": 1,
   "metadata": {},
   "outputs": [],
   "source": [
    "from biopandas.pdb import PandasPdb\n",
    "import pandas as pd\n",
    "import numpy as np\n",
    "from scipy.spatial.distance import cdist"
   ]
  },
  {
   "cell_type": "code",
   "execution_count": 21,
   "metadata": {},
   "outputs": [],
   "source": [
    "## Read in Experiments worksheet\n",
    "experiments = pd.read_excel('../experiments.xlsx', sheet_name='HA1-docking')#.head(1)\n",
    "\n",
    "## filter to where antibody_type is 'diffused'\n",
    "experiments = experiments[experiments['antibody_type'] == 'diffused'].copy()\n",
    "\n",
    "# experiments"
   ]
  },
  {
   "cell_type": "code",
   "execution_count": 3,
   "metadata": {},
   "outputs": [],
   "source": [
    "def find_polar_contacts(pdb_path: str, chain1: str, chain2: str, cutoff=3.5):\n",
    "    \"\"\"\n",
    "    Find polar contacts between two input chains in a PDB file using BioPandas.\n",
    "    \n",
    "    Parameters:\n",
    "    pdb_path (str): Path to the PDB file.\n",
    "    chain1 (str): Identifier for the first chain.\n",
    "    chain2 (str): Identifier for the second chain.\n",
    "    cutoff (float): Distance cutoff for identifying polar contacts.\n",
    "    \n",
    "    Returns:\n",
    "    dict: A dictionary with chain identifiers as keys and lists of residue numbers involved in polar contacts as values.\n",
    "    \"\"\"\n",
    "    ## Load PDB file\n",
    "    ppdb = PandasPdb().read_pdb(pdb_path)\n",
    "    df = ppdb.df['ATOM']\n",
    "\n",
    "    ## Select polar atoms (N, O) from each chain\n",
    "    polar_atoms_chain1 = df[(df['chain_id'] == chain1) & (df['element_symbol'].isin(['N', 'O']))]\n",
    "    polar_atoms_chain2 = df[(df['chain_id'] == chain2) & (df['element_symbol'].isin(['N', 'O']))]\n",
    "\n",
    "    ## Calculate pairwise distances between polar atoms\n",
    "    distances = cdist(polar_atoms_chain1[['x_coord', 'y_coord', 'z_coord']].values, \n",
    "                      polar_atoms_chain2[['x_coord', 'y_coord', 'z_coord']].values)\n",
    "\n",
    "    ## Find pairs of atoms within the distance cutoff\n",
    "    pairs = np.argwhere(distances <= cutoff)\n",
    "\n",
    "    ## Find corresponding residue numbers and names\n",
    "    residue_numbers_chain1 = polar_atoms_chain1['residue_number'].values\n",
    "    residue_numbers_chain2 = polar_atoms_chain2['residue_number'].values\n",
    "\n",
    "    residue_names_chain1 = polar_atoms_chain1['residue_name'].values\n",
    "    residue_names_chain2 = polar_atoms_chain2['residue_name'].values\n",
    "\n",
    "    polar_contact_residues = []\n",
    "    for pair in pairs:\n",
    "        polar_contact_residues.append([\n",
    "            residue_names_chain1[pair[0]],\n",
    "            residue_numbers_chain1[pair[0]],\n",
    "            residue_names_chain2[pair[1]],\n",
    "            residue_numbers_chain2[pair[1]]\n",
    "            ])\n",
    "\n",
    "    ## Make polar contact residues a set\n",
    "    polar_contact_residues = set(map(tuple, polar_contact_residues))\n",
    "\n",
    "    ## Assemble dictionary\n",
    "    polar_contact_residues_dict = {\n",
    "        f\"resn_chain{chain1}\": [],\n",
    "        f\"resi_chain{chain1}\": [],\n",
    "        f\"resn_chain{chain2}\": [],\n",
    "        f\"resi_chain{chain2}\": []\n",
    "        }\n",
    "    \n",
    "    for pair in polar_contact_residues:\n",
    "        polar_contact_residues_dict[f\"resn_chain{chain1}\"].append(pair[0])\n",
    "        polar_contact_residues_dict[f\"resi_chain{chain1}\"].append(pair[1])\n",
    "        polar_contact_residues_dict[f\"resn_chain{chain2}\"].append(pair[2])\n",
    "        polar_contact_residues_dict[f\"resi_chain{chain2}\"].append(pair[3])\n",
    "\n",
    "    ## Convert to dataframe\n",
    "    polar_contact_residues_df = pd.DataFrame(polar_contact_residues_dict)\n",
    "\n",
    "    return polar_contact_residues_df"
   ]
  },
  {
   "cell_type": "code",
   "execution_count": 39,
   "metadata": {},
   "outputs": [
    {
     "name": "stdout",
     "output_type": "stream",
     "text": [
      "Processing ../../experiments/kinetic-template/4_docking/output/08_mdscoring/mdscoring_2.pdb\n",
      "Processing ../../experiments/partial-lagoon/4_docking/output/08_mdscoring/mdscoring_2.pdb\n",
      "Processing ../../experiments/glowing-avocet/4_docking/output/08_mdscoring/mdscoring_5.pdb\n",
      "Processing ../../experiments/approximate-entrepreneur/4_docking/output/08_mdscoring/mdscoring_1.pdb\n",
      "Processing ../../experiments/recursive-basin/4_docking/output/08_mdscoring/mdscoring_1.pdb\n",
      "Processing ../../experiments/free-hearth/4_docking/output/08_mdscoring/mdscoring_1.pdb\n",
      "Processing ../../experiments/smoky-latitude/4_docking/output/08_mdscoring/mdscoring_3.pdb\n",
      "Processing ../../experiments/internal-rundown/4_docking/output/08_mdscoring/mdscoring_2.pdb\n",
      "Processing ../../experiments/critical-tin/4_docking/output/08_mdscoring/mdscoring_2.pdb\n",
      "Processing ../../experiments/gilded-stud/4_docking/output/08_mdscoring/mdscoring_3.pdb\n",
      "Processing ../../experiments/concave-glove/4_docking/output/08_mdscoring/mdscoring_5.pdb\n",
      "Processing ../../experiments/boolean-burbot/4_docking/output/08_mdscoring/mdscoring_5.pdb\n",
      "Processing ../../experiments/magenta-food/4_docking/output/08_mdscoring/mdscoring_7.pdb\n",
      "Processing ../../experiments/exponential-cymbal/4_docking/output/08_mdscoring/mdscoring_7.pdb\n",
      "Processing ../../experiments/soft-spook/4_docking/output/08_mdscoring/mdscoring_1.pdb\n",
      "Processing ../../experiments/creative-halftone/4_docking/output/08_mdscoring/mdscoring_7.pdb\n",
      "Processing ../../experiments/brilliant-charge/4_docking/output/08_mdscoring/mdscoring_1.pdb\n",
      "Processing ../../experiments/strong-bear/4_docking/output/08_mdscoring/mdscoring_2.pdb\n",
      "Processing ../../experiments/minty-cylinder/4_docking/output/08_mdscoring/mdscoring_5.pdb\n",
      "Processing ../../experiments/bitter-folder/4_docking/output/08_mdscoring/mdscoring_4.pdb\n",
      "Processing ../../experiments/contemporary-wine/4_docking/output/08_mdscoring/mdscoring_3.pdb\n",
      "Processing ../../experiments/quadratic-format/4_docking/output/08_mdscoring/mdscoring_5.pdb\n",
      "Processing ../../experiments/avocado-bumper/4_docking/output/08_mdscoring/mdscoring_4.pdb\n",
      "Processing ../../experiments/cold-electricity/4_docking/output/08_mdscoring/mdscoring_9.pdb\n",
      "Processing ../../experiments/flat-gutter/4_docking/output/08_mdscoring/mdscoring_4.pdb\n",
      "Processing ../../experiments/symmetric-pad/4_docking/output/08_mdscoring/mdscoring_5.pdb\n",
      "Processing ../../experiments/antique-structure/4_docking/output/08_mdscoring/mdscoring_1.pdb\n",
      "Processing ../../experiments/cream-callback/4_docking/output/08_mdscoring/mdscoring_1.pdb\n",
      "Processing ../../experiments/inventive-amarone/4_docking/output/08_mdscoring/mdscoring_3.pdb\n",
      "Processing ../../experiments/messy-discriminator/4_docking/output/08_mdscoring/mdscoring_3.pdb\n"
     ]
    }
   ],
   "source": [
    "## Define chains and cutoff\n",
    "chain1 = \"A\"\n",
    "chain2 = \"B\"\n",
    "cutoff = 3\n",
    "\n",
    "## Define start and end residues of HA1\n",
    "resi_start = 1049\n",
    "resi_end = 1322\n",
    "residue_numbers = [f\"pos_{i}\" for i in range(resi_start, resi_end+1)]\n",
    "\n",
    "## Make dataframe\n",
    "positions = pd.DataFrame(columns=[\"antibody_id\", \"pdb_path\"] + residue_numbers)\n",
    "\n",
    "## Loop through experiments and get interfacing residues\n",
    "for index, antibody in experiments.iterrows():\n",
    "    antibody_id = antibody['antibody_id']\n",
    "    pdb_path = f\"../../experiments/{antibody_id}/4_docking/output/08_mdscoring/{antibody['best_model_name']}\"\n",
    "\n",
    "    print(f\"Processing {pdb_path}\")\n",
    "\n",
    "    contacts = find_polar_contacts(pdb_path, chain1, chain2, cutoff)\n",
    "\n",
    "    ## Fill with zeros\n",
    "    positions.loc[index] = 0\n",
    "\n",
    "    ## Fill with ones where there was a contact on the antigen (chain B)\n",
    "    for pos in set(contacts[\"resi_chainB\"].tolist()):\n",
    "        positions.loc[index, f\"pos_{pos}\"] = 1\n",
    "\n",
    "    positions.loc[index, \"antibody_id\"] = antibody_id\n",
    "    positions.loc[index, \"pdb_path\"] = pdb_path"
   ]
  },
  {
   "cell_type": "code",
   "execution_count": 40,
   "metadata": {},
   "outputs": [],
   "source": [
    "positions.to_csv(\"polar_contacts.csv\", index=False)"
   ]
  },
  {
   "cell_type": "markdown",
   "metadata": {},
   "source": [
    "-----------------\n",
    "## PyMOL Highlighter"
   ]
  },
  {
   "cell_type": "code",
   "execution_count": 47,
   "metadata": {},
   "outputs": [],
   "source": [
    "## Get sum of each column\n",
    "positions_total = positions.drop(columns=[\"antibody_id\", \"pdb_path\"]).sum(axis=0).to_dict()\n",
    "\n",
    "## Shift experiment residues to match PDB\n",
    "# resi_shift = -3\n",
    "\n",
    "positions_total_shifted= {}\n",
    "for key, value in positions_total.items():\n",
    "    new_key = int(key.replace(\"pos_\", \"\")) #+ resi_shift\n",
    "    positions_total_shifted[new_key] = positions_total[key]"
   ]
  },
  {
   "cell_type": "code",
   "execution_count": 48,
   "metadata": {},
   "outputs": [],
   "source": [
    "## Scale values from [0,1]\n",
    "positions_shifted_scaled = {k: v / max(positions_total_shifted.values()) for k, v in positions_total_shifted.items()}\n",
    "\n",
    "## Derive prevalence by number of experiments\n",
    "n_experiments = len(experiments)\n",
    "positions_shifted_prev = {k: v / n_experiments for k, v in positions_total_shifted.items()}"
   ]
  },
  {
   "cell_type": "code",
   "execution_count": 49,
   "metadata": {},
   "outputs": [
    {
     "data": {
      "image/png": "[encoded data removed]",
      "text/html": [
       "<div style=\"vertical-align: middle;\"><strong>from_list</strong> </div><div class=\"cmap\"><img alt=\"from_list colormap\" title=\"from_list\" style=\"border: 1px solid #555;\" src=\"data:image/png;base64,iVBORw0KGgoAAAANSUhEUgAAAgAAAABACAYAAABsv8+/AAAAGHRFWHRUaXRsZQBmcm9tX2xpc3QgY29sb3JtYXBDL89FAAAAHnRFWHREZXNjcmlwdGlvbgBmcm9tX2xpc3QgY29sb3JtYXABtCnOAAAAMHRFWHRBdXRob3IATWF0cGxvdGxpYiB2My41LjMsIGh0dHBzOi8vbWF0cGxvdGxpYi5vcmdn0eiSAAAAMnRFWHRTb2Z0d2FyZQBNYXRwbG90bGliIHYzLjUuMywgaHR0cHM6Ly9tYXRwbG90bGliLm9yZ0l3d7UAAAGNSURBVHic7da5SYVhFADRqyD6XFAwsQ/7r8E2BAP3BQOfwavh+5M5p4FJ52hmv58N3G8RmZm7DRq387dBZeZmfpc3rudneePQ+V7euJqv5Y1D53N543I+ljdmZi7mfZPO+bwtb+w2aGzV2c3r8sbMzNm8LG+czvPyxqHztLxxMo/LGzMzx/OwUQcAyDEAABBkAAAgyAAAQJABAIAgAwAAQQYAAIIMAAAEGQAACDIAABBkAAAgyAAAQJABAIAgAwAAQQYAAIIMAAAEGQAACDIAABBkAAAgyAAAQJABAIAgAwAAQQYAAIIMAAAEGQAACDIAABBkAAAgyAAAQJABAIAgAwAAQQYAAIIMAAAEGQAACDIAABBkAAAgyAAAQJABAIAgAwAAQQYAAIIMAAAEGQAACDIAABBkAAAgyAAAQJABAIAgAwAAQQYAAIIMAAAEGQAACDIAABBkAAAgyAAAQJABAIAgAwAAQQYAAIIMAAAEGQAACDIAABBkAAAgyAAAQJABAIAgAwAAQQYAAIL+Ab8BE35Q+c76AAAAAElFTkSuQmCC\"></div><div style=\"vertical-align: middle; max-width: 514px; display: flex; justify-content: space-between;\"><div style=\"float: left;\"><div title=\"#0000ffff\" style=\"display: inline-block; width: 1em; height: 1em; margin: 0; vertical-align: middle; border: 1px solid #555; background-color: #0000ffff;\"></div> under</div><div style=\"margin: 0 auto; display: inline-block;\">bad <div title=\"#00000000\" style=\"display: inline-block; width: 1em; height: 1em; margin: 0; vertical-align: middle; border: 1px solid #555; background-color: #00000000;\"></div></div><div style=\"float: right;\">over <div title=\"#ff0000ff\" style=\"display: inline-block; width: 1em; height: 1em; margin: 0; vertical-align: middle; border: 1px solid #555; background-color: #ff0000ff;\"></div></div>"
      ],
      "text/plain": [
       "<matplotlib.colors.ListedColormap at 0x2374d009888>"
      ]
     },
     "execution_count": 49,
     "metadata": {},
     "output_type": "execute_result"
    }
   ],
   "source": [
    "blue_to_red_colors = [\n",
    "    '#0000ff',\n",
    "    '#3300ff',\n",
    "    '#4b00ff',\n",
    "    '#5e00fd',\n",
    "    '#6e00f7',\n",
    "    '#7d00ef',\n",
    "    '#8c00e6',\n",
    "    '#9900dc',\n",
    "    '#a600d1',\n",
    "    '#b200c5',\n",
    "    '#bd00b8',\n",
    "    '#c700aa',\n",
    "    '#d0009c',\n",
    "    '#d9008e',\n",
    "    '#e2007f',\n",
    "    '#ea006f',\n",
    "    '#f1005e',\n",
    "    '#f80049',\n",
    "    '#fd0031',\n",
    "    '#ff0000'\n",
    "]\n",
    "\n",
    "## Show color scale with matplotlib\n",
    "import matplotlib.pyplot as plt\n",
    "import matplotlib.colors as mcolors\n",
    "\n",
    "# fig, ax = plt.subplots(1, 1, figsize=(10, 1))\n",
    "cmap = mcolors.ListedColormap(blue_to_red_colors)\n",
    "cmap\n",
    "# norm = mcolors.BoundaryNorm(list(positions_shifted_colors.keys()), cmap.N)\n",
    "# cb1 = mcolors.ColorbarBase(ax, cmap=cmap, norm=norm, orientation='horizontal')\n",
    "# cb1.set_label('Residue position')\n",
    "# plt.show()"
   ]
  },
  {
   "cell_type": "code",
   "execution_count": 50,
   "metadata": {},
   "outputs": [
    {
     "name": "stdout",
     "output_type": "stream",
     "text": [
      "Min: 0x0000ff\n",
      "Max: 0xff0000\n"
     ]
    }
   ],
   "source": [
    "## Convert to continuous hex color scale between blue and red\n",
    "positions_shifted_colors = {k: blue_to_red_colors[int(v/(1/19))].replace(\"#\", \"0x\") for k, v in positions_shifted_scaled.items()}\n",
    "\n",
    "print(f\"Min: {min(positions_shifted_colors.values())}\\nMax: {max(positions_shifted_colors.values())}\")\n",
    "# positions_shifted_colors"
   ]
  },
  {
   "cell_type": "code",
   "execution_count": 52,
   "metadata": {},
   "outputs": [],
   "source": [
    "from pymol import cmd\n",
    "\n",
    "ref_pdb_path = \"../../data/inputs/EPI3009175_HA.pdb\"\n",
    "\n",
    "cmd.reinitialize(\"everything\")\n",
    "cmd.load(ref_pdb_path)\n",
    "\n",
    "## Color residues 10-108 and 268-329 grey50\n",
    "# cmd.color(\"grey50\", \"resi 10-108\")\n",
    "# cmd.color(\"grey50\", \"resi 268-329\")\n",
    "\n",
    "\n",
    "for pos, color in positions_shifted_colors.items():\n",
    "    cmd.color(color, f\"resi {pos-1000}\")\n",
    "\n",
    "## Save PyMOL session\n",
    "cmd.save(\"polar_contacts.pse\")\n"
   ]
  },
  {
   "cell_type": "code",
   "execution_count": 53,
   "metadata": {},
   "outputs": [
    {
     "data": {
      "text/plain": [
       "'LEU,GLU,LYS,THR,HIS,ASN,GLY,LYS,LEU,CYS,ASP,LEU,ASN,GLY,VAL,LYS,PRO,LEU,ILE,LEU,LYS,ASP,CYS,SER,VAL,ALA,GLY,TRP,LEU,LEU,GLY,ASN,PRO,LEU,CYS,ASP,GLU,PHE,ILE,ASN,VAL,PRO,GLU,TRP,SER,TYR,ILE,VAL,GLU,LYS,ALA,ASN,PRO,ALA,ASN,ASP,LEU,CYS,TYR,PRO,GLY,ASN,PHE,ASN,ASP,TYR,GLU,GLU,LEU,LYS,HIS,LEU,LEU,SER,ARG,ILE,ASN,HIS,PHE,GLU,LYS,ILE,GLN,ILE,ILE,PRO,LYS,ASN,SER,TRP,SER,ASP,HIS,GLU,ALA,SER,LEU,GLY,VAL,SER,ALA,GLY,CYS,SER,TYR,GLN,GLY,ASN,SER,SER,PHE,PHE,ARG,ASN,VAL,VAL,TRP,LEU,ILE,LYS,LYS,ASN,ASN,ALA,TYR,PRO,THR,ILE,LYS,LYS,ASP,TYR,ASN,ASN,THR,ASN,ARG,GLU,ASP,LEU,LEU,ILE,LEU,TRP,GLY,ILE,HIS,HIS,PRO,ASN,ASP,GLU,ALA,GLU,GLN,THR,LYS,LEU,TYR,GLN,ASN,PRO,THR,THR,TYR,ILE,SER,ILE,GLY,THR,SER,THR,LEU,ASN,GLN,ARG,LEU,VAL,PRO,LYS,ILE,ALA,THR,ARG,PRO,LYS,ILE,ASN,GLY,GLN,SER,GLY,ARG,ILE,ASP,PHE,PHE,TRP,THR,ILE,LEU,LYS,PRO,ASN,ASP,ALA,ILE,HIS,PHE,GLU,SER,ASN,GLY,ASN,PHE,ILE,ALA,PRO,GLU,TYR,ALA,TYR,LYS,ILE,VAL,LYS,LYS,GLY,ASP,SER,THR,ILE,MET,ARG,SER,GLU,ALA,GLN,TYR,GLY,ASN,CYS,ASN,THR,ARG,CYS,GLN,THR,PRO,ILE,GLY,ALA,ILE,ASN,SER,SER,MET,PRO,PHE,HIS,ASN,ILE,HIS,PRO,LEU,THR,ILE,GLY,GLU,CYS,PRO,LYS,TYR,VAL'"
      ]
     },
     "execution_count": 53,
     "metadata": {},
     "output_type": "execute_result"
    }
   ],
   "source": [
    "## Get sequence from PDB\n",
    "ppdb = PandasPdb().read_pdb(ref_pdb_path)\n",
    "\n",
    "## Extract residue names from the ATOM section\n",
    "atom_df = ppdb.df['ATOM']\n",
    "\n",
    "## Get the three-letter residue names in order of appearance (no duplicates per residue sequence number)\n",
    "residues = atom_df[['residue_number', 'residue_name']].drop_duplicates()\n",
    "\n",
    "## Convert to a list of residue names\n",
    "residue_list = residues['residue_name'].tolist()\n",
    "\n",
    "## Join as a comma-separated string\n",
    "','.join(residue_list)"
   ]
  }
 ],
 "metadata": {
  "kernelspec": {
   "display_name": "base",
   "language": "python",
   "name": "python3"
  },
  "language_info": {
   "codemirror_mode": {
    "name": "ipython",
    "version": 3
   },
   "file_extension": ".py",
   "mimetype": "text/x-python",
   "name": "python",
   "nbconvert_exporter": "python",
   "pygments_lexer": "ipython3",
   "version": "3.7.13"
  }
 },
 "nbformat": 4,
 "nbformat_minor": 2
}
