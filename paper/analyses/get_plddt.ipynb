{
 "cells": [
  {
   "cell_type": "markdown",
   "id": "f684281a",
   "metadata": {},
   "source": [
    "# Get pLDDT values from a PDB file."
   ]
  },
  {
   "cell_type": "code",
   "execution_count": 1,
   "id": "723bd671",
   "metadata": {},
   "outputs": [],
   "source": [
    "import pandas as pd\n",
    "import statistics"
   ]
  },
  {
   "cell_type": "code",
   "execution_count": 2,
   "id": "650f51bb",
   "metadata": {},
   "outputs": [],
   "source": [
    "## Read in Experiments worksheet\n",
    "experiments = pd.read_excel('../experiments.xlsx', sheet_name='HA1-docking')#.head(1)\n",
    "\n",
    "## filter to where antibody_type is 'diffused'\n",
    "experiments = experiments[experiments['antibody_type'] == 'diffused'].copy()"
   ]
  },
  {
   "cell_type": "code",
   "execution_count": 6,
   "id": "be7534c5",
   "metadata": {},
   "outputs": [],
   "source": [
    "def extract_plddt_from_pdb(pdb_path, residue_level=True, metric='mean'):\n",
    "    plddt_values = []\n",
    "\n",
    "    with open(pdb_path, 'r') as f:\n",
    "        for line in f:\n",
    "            if line.startswith(\"ATOM\"):\n",
    "                atom_name = line[12:16].strip()\n",
    "                if residue_level and atom_name != \"CA\":\n",
    "                    continue\n",
    "                b_factor_str = line[60:66].strip()\n",
    "                try:\n",
    "                    plddt = float(b_factor_str)\n",
    "                    plddt_values.append(plddt)\n",
    "                except ValueError:\n",
    "                    continue\n",
    "\n",
    "    if plddt_values:\n",
    "        if metric == 'mean':\n",
    "            plddt = statistics.mean(plddt_values)\n",
    "        else:\n",
    "            plddt = statistics.median(plddt_values)\n",
    "        return plddt\n",
    "    else:\n",
    "        return None"
   ]
  },
  {
   "cell_type": "code",
   "execution_count": 7,
   "id": "946ff031",
   "metadata": {},
   "outputs": [
    {
     "name": "stdout",
     "output_type": "stream",
     "text": [
      "kinetic-template,0.7901556420233463,0.83\n",
      "partial-lagoon,0.8291439688715954,0.87\n",
      "glowing-avocet,0.7738132295719844,0.82\n",
      "approximate-entrepreneur,0.680272373540856,0.73\n",
      "recursive-basin,0.8229961089494163,0.88\n",
      "free-hearth,0.730544747081712,0.77\n",
      "smoky-latitude,0.788988326848249,0.82\n",
      "internal-rundown,0.7526848249027237,0.8\n",
      "critical-tin,0.8245525291828794,0.87\n",
      "gilded-stud,0.810739299610895,0.86\n",
      "concave-glove,0.7768093385214008,0.82\n",
      "boolean-burbot,0.8247470817120622,0.87\n",
      "magenta-food,0.7828793774319066,0.85\n",
      "exponential-cymbal,0.7978988326848249,0.85\n",
      "soft-spook,0.7930739299610895,0.84\n",
      "creative-halftone,0.8126070038910506,0.86\n",
      "brilliant-charge,0.8090661478599221,0.86\n",
      "strong-bear,0.8149416342412451,0.86\n",
      "minty-cylinder,0.7876264591439689,0.84\n",
      "bitter-folder,0.8109338521400778,0.86\n",
      "contemporary-wine,0.7874708171206226,0.83\n",
      "quadratic-format,0.8211673151750972,0.87\n",
      "avocado-bumper,0.7780933852140078,0.82\n",
      "cold-electricity,0.8452140077821012,0.89\n",
      "flat-gutter,0.7803501945525292,0.83\n",
      "symmetric-pad,0.8084824902723735,0.86\n",
      "antique-structure,0.8181322957198444,0.87\n",
      "cream-callback,0.7870038910505837,0.84\n",
      "inventive-amarone,0.5567315175097276,0.51\n",
      "messy-discriminator,0.8180933852140078,0.87\n"
     ]
    }
   ],
   "source": [
    "## Loop through experiments and get interfacing residues\n",
    "for index, antibody in experiments.iterrows():\n",
    "    antibody_id = antibody['antibody_id']\n",
    "    pdb_path = f\"../../experiments/{antibody_id}/3_folding/antibody.pdb\"\n",
    "\n",
    "    mean_plddt = extract_plddt_from_pdb(pdb_path, residue_level=True, metric='mean')\n",
    "    median_plddt = extract_plddt_from_pdb(pdb_path, residue_level=True, metric='median')\n",
    "\n",
    "    if mean_plddt is not None:\n",
    "        print(f\"{antibody_id},{mean_plddt},{median_plddt}\")"
   ]
  }
 ],
 "metadata": {
  "kernelspec": {
   "display_name": "base",
   "language": "python",
   "name": "python3"
  },
  "language_info": {
   "codemirror_mode": {
    "name": "ipython",
    "version": 3
   },
   "file_extension": ".py",
   "mimetype": "text/x-python",
   "name": "python",
   "nbconvert_exporter": "python",
   "pygments_lexer": "ipython3",
   "version": "3.7.13"
  }
 },
 "nbformat": 4,
 "nbformat_minor": 5
}
