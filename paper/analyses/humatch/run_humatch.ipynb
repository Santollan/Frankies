{
 "cells": [
  {
   "cell_type": "markdown",
   "id": "9ad3a6de",
   "metadata": {},
   "source": [
    "# Run Humatch"
   ]
  },
  {
   "cell_type": "code",
   "execution_count": null,
   "id": "370c06c6",
   "metadata": {},
   "outputs": [],
   "source": [
    "!cd ./Humatch && pip install ."
   ]
  },
  {
   "cell_type": "code",
   "execution_count": null,
   "id": "40ee4df5",
   "metadata": {},
   "outputs": [],
   "source": [
    "!Humatch-classify -i antibody_seqs.csv --vh_col heavy --vl_col light"
   ]
  }
 ],
 "metadata": {
  "kernelspec": {
   "display_name": "Python 3",
   "language": "python",
   "name": "python3"
  },
  "language_info": {
   "codemirror_mode": {
    "name": "ipython",
    "version": 3
   },
   "file_extension": ".py",
   "mimetype": "text/x-python",
   "name": "python",
   "nbconvert_exporter": "python",
   "pygments_lexer": "ipython3",
   "version": "3.9.13"
  }
 },
 "nbformat": 4,
 "nbformat_minor": 5
}
