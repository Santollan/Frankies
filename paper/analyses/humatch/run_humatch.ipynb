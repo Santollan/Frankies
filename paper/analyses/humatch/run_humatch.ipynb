{
 "cells": [
  {
   "cell_type": "markdown",
   "id": "9ad3a6de",
   "metadata": {},
   "source": [
    "# Run Humatch"
   ]
  },
  {
   "cell_type": "code",
   "execution_count": null,
   "id": "7b16cd9d",
   "metadata": {},
   "outputs": [],
   "source": [
    "!git clone https://github.com/oxpig/Humatch.git"
   ]
  },
  {
   "cell_type": "code",
   "execution_count": null,
   "id": "370c06c6",
   "metadata": {},
   "outputs": [],
   "source": [
    "!cd ./Humatch && pip install ."
   ]
  },
  {
   "cell_type": "code",
   "execution_count": null,
   "id": "95059ed8",
   "metadata": {},
   "outputs": [],
   "source": [
    "!git clone https://github.com/oxpig/ANARCI.git"
   ]
  },
  {
   "cell_type": "code",
   "execution_count": null,
   "id": "77d6579a",
   "metadata": {},
   "outputs": [],
   "source": [
    "!conda install -c conda-forge biopython -y && conda install -c bioconda hmmer=3.3.2 -y\n",
    "!cd ANARCI && python setup.py install"
   ]
  },
  {
   "cell_type": "code",
   "execution_count": 9,
   "id": "40ee4df5",
   "metadata": {},
   "outputs": [],
   "source": [
    "!Humatch-classify -i antibody_seqs.csv --vh_col heavy_chain --vl_col light_chain -s"
   ]
  },
  {
   "cell_type": "code",
   "execution_count": null,
   "id": "513480de",
   "metadata": {},
   "outputs": [],
   "source": []
  }
 ],
 "metadata": {
  "kernelspec": {
   "display_name": "base",
   "language": "python",
   "name": "python3"
  },
  "language_info": {
   "codemirror_mode": {
    "name": "ipython",
    "version": 3
   },
   "file_extension": ".py",
   "mimetype": "text/x-python",
   "name": "python",
   "nbconvert_exporter": "python",
   "pygments_lexer": "ipython3",
   "version": "3.12.2"
  }
 },
 "nbformat": 4,
 "nbformat_minor": 5
}
