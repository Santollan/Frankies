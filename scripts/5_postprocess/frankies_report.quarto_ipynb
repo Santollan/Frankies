{
  "cells": [
    {
      "cell_type": "markdown",
      "metadata": {},
      "source": [
        "---\n",
        "title: \"Antibody Performance Dashboard\" \n",
        "subtitle: \"Frankies Diffusion Pipeline\"\n",
        "format:\n",
        "  dashboard:\n",
        "    theme: frankies.scss\n",
        "    icon: body-text\n",
        "    orientation: columns\n",
        "    nav-buttons:\n",
        "      - icon: github\n",
        "        href: https://github.com/Santollan/Frankies/\n",
        "---\n"
      ],
      "id": "2d8787ae"
    },
    {
      "cell_type": "code",
      "metadata": {
        "tags": [
          "parameters"
        ]
      },
      "source": [
        "#| label: parameters\n",
        "\n",
        "experiment_dir = \"../../experiments/anti_HA_test_CF_02/\"\n",
        "capri_clt_file = \"../../experiments/anti_HA_test_CF_02/4_docking/output/10_caprieval/capri_clt.tsv\"\n",
        "capri_ss_file = \"../../experiments/anti_HA_test_CF_02/4_docking/output/10_caprieval/capri_ss.tsv\"\n",
        "input_h_json = \"../../experiments/anti_HA_test_CF_02/2_diffusion/anti-HA_antibodies_Hchains_aligned.a3m.json\"\n",
        "input_l_json = \"../../experiments/anti_HA_test_CF_02/2_diffusion/anti-HA_antibodies_Lchains_aligned.a3m.json\"\n"
      ],
      "id": "parameters",
      "execution_count": null,
      "outputs": []
    },
    {
      "cell_type": "code",
      "metadata": {},
      "source": [
        "#| label: debug-params\n",
        "#| output: false\n",
        "\n",
        "# Extract experiment name from path for use elsewhere\n",
        "import os\n",
        "experiment_name = os.path.basename(os.path.normpath(experiment_dir))\n",
        "print(f\"Experiment directory: {experiment_dir}\")\n",
        "print(f\"CAPRI CLT file: {capri_clt_file}\")\n",
        "print(f\"CAPRI SS file: {capri_ss_file}\")\n",
        "print(f\"Input H JSON: {input_h_json}\")\n",
        "print(f\"Input L JSON: {input_l_json}\")"
      ],
      "id": "debug-params",
      "execution_count": null,
      "outputs": []
    },
    {
      "cell_type": "code",
      "metadata": {},
      "source": [
        "#| label: load_libs\n",
        "import pandas as pd\n",
        "import re, json\n",
        "import plotly.express as px\n",
        "import py3Dmol\n",
        "from IPython.display import display, HTML\n",
        "from itables import show\n",
        "import os"
      ],
      "id": "load_libs",
      "execution_count": null,
      "outputs": []
    },
    {
      "cell_type": "code",
      "metadata": {},
      "source": [
        "#| label: load_data\n",
        "clt_df = pd.read_csv(capri_clt_file, sep='\\t', comment='#')\n",
        "ss_df = pd.read_csv(capri_ss_file, sep='\\t', comment='#')\n",
        "\n",
        "with open(input_h_json, 'r') as f:\n",
        "  h_sequence = json.load(f)[\"cleaned_sequence\"]\n",
        "\n",
        "with open(input_l_json, 'r') as f:\n",
        "  l_sequence = json.load(f)[\"cleaned_sequence\"]\n",
        "\n",
        "## Get best ranking cluster\n",
        "best_cluster_id = clt_df.loc[clt_df[\"cluster_rank\"] == 1, \"cluster_id\"].values[0]\n",
        "\n",
        "## From best cluster, get best model (using VDW)\n",
        "ss_df_best = ss_df[(ss_df[\"cluster-id\"] == best_cluster_id)]\n",
        "lowest_vdw_row = ss_df_best.loc[ss_df_best[\"vdw\"].idxmin()]\n",
        "best_model = lowest_vdw_row[\"model\"].replace('../08_mdscoring/','')\n",
        "\n",
        "# Get the absolute path of the current working directory\n",
        "current_dir = os.getcwd()\n",
        " \n",
        "\n",
        "# Navigate up to the experiments directory (2 levels up from postprocess)\n",
        "experiments_dir = os.path.dirname(os.path.dirname(current_dir))\n",
        "best_pdb_path = os.path.join(experiments_dir,experiment_name, \"4_docking/output/08_mdscoring\", best_model)"
      ],
      "id": "load_data",
      "execution_count": null,
      "outputs": []
    },
    {
      "cell_type": "markdown",
      "metadata": {},
      "source": [
        "# Performance\n",
        "\n",
        "## Column {width=50%}\n",
        "\n",
        "### Row {height=20%}\n"
      ],
      "id": "03a18ee7"
    },
    {
      "cell_type": "code",
      "metadata": {
        "component": "card",
        "title": "Experiment : "
      },
      "source": [
        "#| label: experiment_display\n",
        "#| output: asis\n",
        "import os\n",
        "experiment_name = os.path.basename(os.path.normpath(experiment_dir))\n",
        "print(f\"<div style='font-size: 20px; font-weight: bold; color:rgb(0, 0, 0);'> {experiment_name}</div>\")"
      ],
      "id": "experiment_display",
      "execution_count": null,
      "outputs": []
    },
    {
      "cell_type": "code",
      "metadata": {
        "component": "valuebox",
        "title": "Structure Complexes Generated"
      },
      "source": [
        "#| label: n_tile\n",
        "dict(\n",
        "    # icon = \"x-square\",\n",
        "    color = \"light\",\n",
        "    value = int(clt_df.loc[clt_df[\"cluster_rank\"] == 1, \"n\"].values[0])\n",
        ")"
      ],
      "id": "n_tile",
      "execution_count": null,
      "outputs": []
    },
    {
      "cell_type": "code",
      "metadata": {
        "component": "valuebox",
        "title": "Combined Score"
      },
      "source": [
        "#| label: score_tile\n",
        "dict(\n",
        "    # icon = \"x-square\",\n",
        "    color = \"light\",\n",
        "  value = f'{float(clt_df.loc[clt_df[\"cluster_rank\"] == 1, \"score\"].values[0])}\\n±{float(clt_df.loc[clt_df[\"cluster_rank\"] == 1, \"score_std\"].values[0])}'\n",
        ")"
      ],
      "id": "score_tile",
      "execution_count": null,
      "outputs": []
    },
    {
      "cell_type": "code",
      "metadata": {
        "component": "valuebox",
        "title": "Interface RMSD"
      },
      "source": [
        "#| label: irmsd_tile\n",
        "dict(\n",
        "    # icon = \"x-square\",\n",
        "    color = \"light\",\n",
        "    value = f'{float(clt_df.loc[clt_df[\"cluster_rank\"] == 1, \"irmsd\"].values[0])}\\n±{float(clt_df.loc[clt_df[\"cluster_rank\"] == 1, \"irmsd_std\"].values[0])}'\n",
        ")"
      ],
      "id": "irmsd_tile",
      "execution_count": null,
      "outputs": []
    },
    {
      "cell_type": "code",
      "metadata": {
        "component": "valuebox",
        "title": "DockQ Score"
      },
      "source": [
        "#| label: dockq_tile\n",
        "dict(\n",
        "    # icon = \"x-square\",\n",
        "    color = \"light\",\n",
        "    value = f'{float(clt_df.loc[clt_df[\"cluster_rank\"] == 1, \"dockq\"].values[0])}\\n±{float(clt_df.loc[clt_df[\"cluster_rank\"] == 1, \"dockq_std\"].values[0])}'\n",
        ")"
      ],
      "id": "dockq_tile",
      "execution_count": null,
      "outputs": []
    },
    {
      "cell_type": "markdown",
      "metadata": {},
      "source": [
        "### Row {height=80%}"
      ],
      "id": "f58f77c4"
    },
    {
      "cell_type": "code",
      "metadata": {},
      "source": [
        "#| label: create-graphs\n",
        "#| output: false\n",
        "score_fig  = px.box(ss_df, y=\"score\", points=\"all\", labels={\"score\": \"Combined Score\"})\n",
        "score_fig.update_traces(marker_color='#005035', line_color='#005035')\n",
        "score_fig.update_layout(\n",
        "    showlegend=False,\n",
        "    paper_bgcolor=\"white\",\n",
        "    plot_bgcolor=\"#e0e0e0\",\n",
        "    font_color=\"#222\",\n",
        "    xaxis=dict(color=\"#444\"),\n",
        "    yaxis=dict(color=\"#444\")\n",
        ")\n",
        "\n",
        "total_fig  = px.box(ss_df, y=\"total\", points=\"all\", labels={\"total\": \"Total Score\"})\n",
        "total_fig.update_traces(marker_color='#899064', line_color='#899064')\n",
        "total_fig.update_layout(\n",
        "    showlegend=False,\n",
        "    paper_bgcolor=\"white\",\n",
        "    plot_bgcolor=\"#e0e0e0\",\n",
        "    font_color=\"#222\",\n",
        "    xaxis=dict(color=\"#444\"),\n",
        "    yaxis=dict(color=\"#444\")\n",
        ")\n",
        "\n",
        "vdw_fig  = px.box(ss_df, y=\"vdw\", points=\"all\", labels={\"vdw\": \"Van der Waals Energy\"})\n",
        "vdw_fig.update_traces(marker_color='#A49665', line_color='#A49665')\n",
        "vdw_fig.update_layout(\n",
        "    showlegend=False,\n",
        "    paper_bgcolor=\"white\",\n",
        "    plot_bgcolor=\"#e0e0e0\",\n",
        "    font_color=\"#222\",\n",
        "    xaxis=dict(color=\"#444\"),\n",
        "    yaxis=dict(color=\"#444\")\n",
        ")\n",
        "\n",
        "elec_fig  = px.box(ss_df, y=\"elec\", points=\"all\", labels={\"elec\": \"Electrostatic Energy\"})\n",
        "elec_fig.update_traces(marker_color='#101820', line_color='#101820')\n",
        "elec_fig.update_layout(\n",
        "    showlegend=False,\n",
        "    paper_bgcolor=\"white\",\n",
        "    plot_bgcolor=\"#e0e0e0\",\n",
        "    font_color=\"#222\",\n",
        "    xaxis=dict(color=\"#444\"),\n",
        "    yaxis=dict(color=\"#444\")\n",
        ")\n",
        "\n",
        "desolv_fig  = px.box(ss_df, y=\"desolv\", points=\"all\", labels={\"desolv\": \"Desolvation Energy\"})\n",
        "desolv_fig.update_traces(marker_color='#802F2D', line_color='#802F2D')\n",
        "desolv_fig.update_layout(\n",
        "    showlegend=False,\n",
        "    paper_bgcolor=\"white\",\n",
        "    plot_bgcolor=\"#e0e0e0\",\n",
        "    font_color=\"#222\",\n",
        "    xaxis=dict(color=\"#444\"),\n",
        "    yaxis=dict(color=\"#444\")\n",
        ")\n",
        "\n",
        "bsa_fig  = px.box(ss_df, y=\"bsa\", points=\"all\", labels={\"bsa\": \"Buried Surface Area\"})\n",
        "bsa_fig.update_traces(marker_color='#007377', line_color='#007377')\n",
        "bsa_fig.update_layout(\n",
        "    showlegend=False,\n",
        "    paper_bgcolor=\"white\",\n",
        "    plot_bgcolor=\"#e0e0e0\",\n",
        "    font_color=\"#222\",\n",
        "    xaxis=dict(color=\"#444\"),\n",
        "    yaxis=dict(color=\"#444\")\n",
        ")"
      ],
      "id": "create-graphs",
      "execution_count": null,
      "outputs": []
    },
    {
      "cell_type": "code",
      "metadata": {
        "title": "Docking Performance Distribution"
      },
      "source": [
        "#| label: show-graphs\n",
        "#| layout-nrow: 2\n",
        "#| layout-ncol: 3\n",
        "score_fig.show()\n",
        "total_fig.show()\n",
        "vdw_fig.show()\n",
        "elec_fig.show()\n",
        "desolv_fig.show()\n",
        "bsa_fig.show()"
      ],
      "id": "show-graphs",
      "execution_count": null,
      "outputs": []
    },
    {
      "cell_type": "markdown",
      "metadata": {},
      "source": [
        "## Column {width=50%}\n",
        "\n",
        "### Row {height=20%}"
      ],
      "id": "a855b746"
    },
    {
      "cell_type": "code",
      "metadata": {
        "title": "Heavy Chain Sequence"
      },
      "source": [
        "#| label: h_chain\n",
        "h_seq_html = f\"\"\"\n",
        "<div style='background-color:#f8f9fa; padding:1rem; border-radius:8px; margin-bottom:1rem;'>\n",
        "  <div style='font-family:monospace; white-space:pre-wrap; word-wrap:break-word;'>\n",
        "    {h_sequence}\n",
        "  </div>\n",
        "</div>\n",
        "\"\"\"\n",
        "\n",
        "display(HTML(h_seq_html))"
      ],
      "id": "h_chain",
      "execution_count": null,
      "outputs": []
    },
    {
      "cell_type": "code",
      "metadata": {
        "title": "Light Chain Sequence"
      },
      "source": [
        "#| label: l_chain\n",
        "l_seq_html = f\"\"\"\n",
        "<div style='background-color:#f8f9fa; border-radius:8px;'>\n",
        "  <div style='font-family:monospace; white-space:pre-wrap; word-wrap:break-word;'>\n",
        "    {l_sequence}\n",
        "  </div>\n",
        "</div>\n",
        "\"\"\"\n",
        "\n",
        "display(HTML(l_seq_html))"
      ],
      "id": "l_chain",
      "execution_count": null,
      "outputs": []
    },
    {
      "cell_type": "markdown",
      "metadata": {},
      "source": [
        "### Row {height=80%}"
      ],
      "id": "d7a43ade"
    },
    {
      "cell_type": "code",
      "metadata": {
        "title": "Best-Scoring Complex",
        "subtitle": "Diffused antibody (in orange) docked with antigen (in cyan)."
      },
      "source": [
        "#| label: make_structure_viewer\n",
        "#| output: false\n",
        "\n",
        "with open(best_pdb_path) as pdb_file:\n",
        "  pdb_data = \"\".join([x for x in pdb_file])\n",
        "  \n",
        "view = py3Dmol.view()\n",
        "view.addModel(pdb_data)\n",
        "view.setStyle( {'chain':'A'}, { 'cartoon': {'color': '#005035' }})\n",
        "view.setStyle( {'chain':'B'}, { 'cartoon': {'color': '#A49665'}})\n",
        "view.zoomTo()\n",
        "# view"
      ],
      "id": "make_structure_viewer",
      "execution_count": null,
      "outputs": []
    },
    {
      "cell_type": "code",
      "metadata": {
        "padding": "0px"
      },
      "source": [
        "#| label: show_structure\n",
        "print(\"title=\", f\"Best-Scoring Complex: {best_model}\")\n",
        "\n",
        "html = f'''\n",
        "        <html>\n",
        "        <body style=\"margin: 0; padding: 0; display: block;\">\n",
        "        {view._make_html()}\n",
        "        </body>\n",
        "        </html>\n",
        "    '''\n",
        "\n",
        "html = re.sub(r'width: (\\S+);', 'width: 100%;', html)\n",
        "html = re.sub(r'height: (\\S+);', 'height: 100vh;', html)\n",
        "\n",
        "# HTML(pdbview._make_html())\n",
        "HTML(html)"
      ],
      "id": "show_structure",
      "execution_count": null,
      "outputs": []
    },
    {
      "cell_type": "markdown",
      "metadata": {},
      "source": [
        "<!-- \n",
        "```{=html}\n",
        "<script src=\"https://3Dmol.org/build/3Dmol-min.js\"></script>     \n",
        "<script src=\"https://3Dmol.org/build/3Dmol.ui-min.js\"></script>     \n",
        " \n",
        "<div style=\"height: 400px; width: 400px; position: relative;\" class='viewer_3Dmoljs' data-pdb='2POR' data-backgroundcolor='0xffffff' data-style='stick' data-ui='true'></div>\n",
        "``` -->\n",
        "\n",
        "# Data\n",
        "\n",
        "## Column {width=100%}\n",
        "\n",
        "### Row {height=50%}"
      ],
      "id": "8fb062d1"
    },
    {
      "cell_type": "code",
      "metadata": {
        "title": "Individual Performance"
      },
      "source": [
        "#| label: model_data\n",
        "show(ss_df, showIndex = False)"
      ],
      "id": "model_data",
      "execution_count": null,
      "outputs": []
    },
    {
      "cell_type": "markdown",
      "metadata": {},
      "source": [
        "<!-- ### Row {height=50%}"
      ],
      "id": "a0a61a0e"
    },
    {
      "cell_type": "code",
      "metadata": {
        "title": "Cluster-Level Performance"
      },
      "source": [
        "#| label: cluster_data\n",
        "show(clt_df, showIndex = False)"
      ],
      "id": "cluster_data",
      "execution_count": null,
      "outputs": []
    },
    {
      "cell_type": "markdown",
      "metadata": {},
      "source": [
        "-->\n",
        "\n",
        "\n",
        "# About\n",
        "## Row\n",
        "### About FrankIES {orientation=\"rows\" width=100%}\n",
        "**About**\n",
        "\n",
        "::: {.card title=\"FrankIES : Scalable, AI-Based Antibody Design Against 2025 H5N1 Avian Influenza Isolates\"}\n",
        "FrankIES (Frankie Immune Engineering Suite) is a computational pipeline for antibody engineering that integrates multiple advanced tools:\n",
        "\n",
        "- **Diffusion**: EvoDiff v1.1.0 (Docker container: cford38/evodiff:v1.1.0)\n",
        "- **Folding**: ESM\n",
        "- **Docking**: HADDOCK3 (Docker container: cford38/haddock:3)\n",
        "\n",
        "The pipeline automates the complex process of antibody design, folding, docking, and evaluation, providing comprehensive results visualization through this interactive report.\n",
        ":::\n"
      ],
      "id": "d458fa2a"
    },
    {
      "cell_type": "code",
      "metadata": {},
      "source": [
        "#| label: system_info\n",
        "#| output: asis\n",
        "\n",
        "\n",
        "import platform\n",
        "import os\n",
        "import subprocess\n",
        "import re\n",
        "import psutil\n",
        "\n",
        "# Function to safely run commands\n",
        "def run_command(command):\n",
        "    try:\n",
        "        result = subprocess.check_output(command, shell=True, stderr=subprocess.STDOUT, text=True)\n",
        "        return result.strip()\n",
        "    except subprocess.CalledProcessError as e:\n",
        "        return f\"Command failed: {e.output.strip()}\"\n",
        "\n",
        "# Get OS info\n",
        "os_info = platform.platform()\n",
        "\n",
        "# Get CPU info\n",
        "cpu_info = {}\n",
        "try:\n",
        "    with open('/proc/cpuinfo', 'r') as f:\n",
        "        for line in f:\n",
        "            if 'model name' in line:\n",
        "                cpu_info['model'] = re.sub(r'.*model name.*:', '', line).strip()\n",
        "                break\n",
        "except:\n",
        "    cpu_info['model'] = platform.processor()\n",
        "\n",
        "# Get CPU cores\n",
        "cpu_info['cores'] = psutil.cpu_count(logical=False)\n",
        "cpu_info['logical_cores'] = psutil.cpu_count(logical=True)\n",
        "\n",
        "# Get memory info\n",
        "memory_gb = round(psutil.virtual_memory().total / (1024**3), 2)\n",
        "\n",
        "# Get GPU info\n",
        "gpu_info = {}\n",
        "nvidia_smi = run_command('nvidia-smi --query-gpu=name,driver_version,memory.total --format=csv,noheader')\n",
        "if 'failed' not in nvidia_smi and 'not found' not in nvidia_smi.lower():\n",
        "    gpu_lines = nvidia_smi.strip().split('\\n')\n",
        "    gpu_info['gpus'] = []\n",
        "    for i, line in enumerate(gpu_lines):\n",
        "        parts = line.split(', ')\n",
        "        if len(parts) >= 3:\n",
        "            gpu_info['gpus'].append({\n",
        "                'name': parts[0],\n",
        "                'driver': parts[1],\n",
        "                'memory': parts[2]\n",
        "            })\n",
        "\n",
        "# Get CUDA version - with better error handling\n",
        "cuda_version = None\n",
        "try:\n",
        "    nvcc_output = run_command('nvcc --version')\n",
        "    if 'not found' not in nvcc_output.lower() and 'failed' not in nvcc_output:\n",
        "        cuda_match = re.search(r'release (\\d+\\.\\d+)', nvcc_output)\n",
        "        if cuda_match:\n",
        "            cuda_version = cuda_match.group(1)\n",
        "except:\n",
        "    pass  # Silently handle errors\n",
        "\n",
        "# Create clean HTML output\n",
        "output = \"\"\"\n",
        "<div class=\"card mt-3\">\n",
        "  <div class=\"card-header\"><strong>Host System Information</strong></div>\n",
        "  <div class=\"card-body\">\n",
        "    <p><strong>Operating System:</strong> {os_info}</p>\n",
        "    <p><strong>CPU:</strong> {cpu_model}</p>\n",
        "    <p><strong>Cores:</strong> {cores} physical / {logical_cores} logical</p>\n",
        "    <p><strong>Memory:</strong> {memory_gb} GB</p>\n",
        "\"\"\".format(\n",
        "    os_info=os_info,\n",
        "    cpu_model=cpu_info.get('model', 'Unknown'),\n",
        "    cores=cpu_info.get('cores', 'Unknown'),\n",
        "    logical_cores=cpu_info.get('logical_cores', 'Unknown'),\n",
        "    memory_gb=memory_gb\n",
        ")\n",
        "\n",
        "# Add GPU information if available\n",
        "if gpu_info.get('gpus'):\n",
        "    output += \"<p><strong>GPUs:</strong></p><ul>\"\n",
        "    for gpu in gpu_info['gpus']:\n",
        "        output += f\"<li>{gpu['name']} ({gpu['memory']})</li>\"\n",
        "    output += \"</ul>\"\n",
        "    \n",
        "    if cuda_version:\n",
        "        output += f\"<p><strong>CUDA Version:</strong> {cuda_version}</p>\"\n",
        "\n",
        "output += \"\"\"\n",
        "  </div>\n",
        "</div>\n",
        "\"\"\"\n",
        "\n",
        "print(output)"
      ],
      "id": "system_info",
      "execution_count": null,
      "outputs": []
    }
  ],
  "metadata": {
    "kernelspec": {
      "name": "python3",
      "language": "python",
      "display_name": "Python 3 (ipykernel)",
      "path": "/home/nicholas/.local/share/jupyter/kernels/python3"
    }
  },
  "nbformat": 4,
  "nbformat_minor": 5
}